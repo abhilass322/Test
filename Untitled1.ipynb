{
 "cells": [
  {
   "cell_type": "markdown",
   "id": "f4d5c192-d4fa-4860-b1ee-5af9443ac264",
   "metadata": {},
   "source": [
    "# My Jupyter Notebook on IBM Watson Studio"
   ]
  },
  {
   "cell_type": "markdown",
   "id": "198ff88d-9f2c-4e89-a09b-cf57011d6aee",
   "metadata": {},
   "source": [
    "**ABHILASH SALA**, COMPUTATIONAL NUCLEAR ENGINEER"
   ]
  },
  {
   "cell_type": "markdown",
   "id": "c59633ed-7e3c-4436-98eb-7142fb972794",
   "metadata": {},
   "source": [
    "*I am interested in data science because it helps me in getting great insights from my research outputs*"
   ]
  },
  {
   "cell_type": "markdown",
   "id": "89118dbe-7d39-45e8-adb5-73ab7517065f",
   "metadata": {},
   "source": [
    "### The code gives a loop output"
   ]
  },
  {
   "cell_type": "code",
   "execution_count": 2,
   "id": "42a31127-ffa8-464e-8cc3-23ede3ca0510",
   "metadata": {},
   "outputs": [
    {
     "name": "stdout",
     "output_type": "stream",
     "text": [
      "0\n",
      "1\n",
      "2\n"
     ]
    }
   ],
   "source": [
    "for i in range(0,3):\n",
    "    print(i)"
   ]
  },
  {
   "cell_type": "markdown",
   "id": "7de64a57-fd12-4e71-9c4e-1366b1ffb1a9",
   "metadata": {},
   "source": [
    "1. IBM Watson studio has \n",
    "    1. Assets\n",
    "    2. modeller\n",
    "    3. deployer\n",
    "2. ![A test image](image.png)\n",
    "3. Bye\n",
    "***"
   ]
  },
  {
   "cell_type": "code",
   "execution_count": null,
   "id": "8d6588d1-2bd7-4444-9f8e-59133d565f13",
   "metadata": {},
   "outputs": [],
   "source": []
  }
 ],
 "metadata": {
  "kernelspec": {
   "display_name": "Python",
   "language": "python",
   "name": "conda-env-python-py"
  },
  "language_info": {
   "codemirror_mode": {
    "name": "ipython",
    "version": 3
   },
   "file_extension": ".py",
   "mimetype": "text/x-python",
   "name": "python",
   "nbconvert_exporter": "python",
   "pygments_lexer": "ipython3",
   "version": "3.7.12"
  },
  "toc-autonumbering": false,
  "toc-showmarkdowntxt": true,
  "toc-showtags": false
 },
 "nbformat": 4,
 "nbformat_minor": 5
}
